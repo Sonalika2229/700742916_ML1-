{
 "cells": [
  {
   "cell_type": "code",
   "execution_count": 1,
   "id": "7c71cd03",
   "metadata": {},
   "outputs": [
    {
     "name": "stdout",
     "output_type": "stream",
     "text": [
      "19\n",
      "26\n",
      "24.0\n",
      "22\n",
      "7\n"
     ]
    }
   ],
   "source": [
    "ages = [19,22,19,24,20,25,26,24,25,24]\n",
    "ages.sort()\n",
    "minAge = min(ages)\n",
    "maxAge = max(ages)\n",
    "ages.append(minAge)\n",
    "ages.append(maxAge)\n",
    "ages.sort()\n",
    "length = len(ages)\n",
    "medianAge = ages[ (length+1)//2] if length%2==1 else (ages[length//2]+ages[ (length//2)+1])/2\n",
    "sumofAges = sum(ages)\n",
    "averageofAges = sumofAges//length\n",
    "rangeofAges = maxAge-minAge\n",
    "print(minAge)\n",
    "print(maxAge)\n",
    "print(medianAge)\n",
    "print(averageofAges)\n",
    "print(rangeofAges)"
   ]
  },
  {
   "cell_type": "code",
   "execution_count": 2,
   "id": "1fa76906",
   "metadata": {},
   "outputs": [
    {
     "name": "stdout",
     "output_type": "stream",
     "text": [
      " Dog dictionary is :  {'Name': 'Lulu', 'Color': 'Golden', 'Breed': 'Shihtzu', 'legs': 4, 'Age': 2}\n",
      "\n",
      "Student dictionary is :  {'first_name': 'Sonalika', 'last_name': 'Venchiryala', 'Gender': 'Female', 'Age': 22, 'Martial status': 'single', 'Skills': ['Java', 'Python'], 'Country': 'India', 'City': 'Armoor', 'Address': 'Gandhi Nagar Colony'}\n",
      "length of student dictionary is :  9\n",
      "student skills are : ['Java', 'Python']\n",
      "type of student skills is :  <class 'list'>\n",
      "modified student skills :  ['Java', 'Python', 'Skill A', 'Skill B']\n",
      "dog dictionary keys :  ['Name', 'Color', 'Breed', 'legs', 'Age']\n",
      "student dictionary keys :  ['first_name', 'last_name', 'Gender', 'Age', 'Martial status', 'Skills', 'Country', 'City', 'Address']\n",
      "dog dictionary values :  ['Lulu', 'Golden', 'Shihtzu', 4, 2]\n",
      "student dictionary values :  ['Sonalika', 'Venchiryala', 'Female', 22, 'single', ['Java', 'Python', 'Skill A', 'Skill B'], 'India', 'Armoor', 'Gandhi Nagar Colony']\n"
     ]
    }
   ],
   "source": [
    "#creating dog dictionary\n",
    "dog=dict()\n",
    "dog[\"Name\"]=\"Lulu\"\n",
    "dog[\"Color\"]=\"Golden\"\n",
    "dog[\"Breed\"]=\"Shihtzu\"\n",
    "dog[\"legs\"]=4\n",
    "dog[\"Age\"]=2\n",
    "print(\" Dog dictionary is : \",dog)\n",
    "print()\n",
    "\n",
    "#creating student dictionary\n",
    "student=dict()\n",
    "student[\"first_name\"]=\"Sonalika\"\n",
    "student[\"last_name\"]=\"Venchiryala\"\n",
    "student[\"Gender\"]=\"Female\"\n",
    "student[\"Age\"]=22\n",
    "student[\"Martial status\"]=\"single\"\n",
    "student[\"Skills\"]=[\"Java\",\"Python\"]\n",
    "student[\"Country\"]=\"India\"\n",
    "student[\"City\"]=\"Armoor\"\n",
    "student[\"Address\"]=\"Gandhi Nagar Colony\"\n",
    "print(\"Student dictionary is : \", student)\n",
    "\n",
    "\n",
    "#length of student dictionary\n",
    "print(\"length of student dictionary is : \",str(len(student)));\n",
    "\n",
    "#value of student skills and datatype\n",
    "print(\"student skills are : \",end='')\n",
    "print(student[\"Skills\"])\n",
    "print(\"type of student skills is : \",type(student[\"Skills\"]))\n",
    "\n",
    "#modifying student skills\n",
    "student[\"Skills\"].append(\"Skill A\")\n",
    "student[\"Skills\"].append(\"Skill B\")\n",
    "print(\"modified student skills : \",student[\"Skills\"])\n",
    "\n",
    "#getting dictionary keys as list\n",
    "dog_keys=list(dog.keys())\n",
    "print(\"dog dictionary keys : \",dog_keys)\n",
    "student_keys=list(student.keys())\n",
    "print(\"student dictionary keys : \",student_keys)\n",
    "dog_values=list(dog.values())\n",
    "print(\"dog dictionary values : \",dog_values)\n",
    "student_values=list(student.values())\n",
    "print(\"student dictionary values : \",student_values)"
   ]
  },
  {
   "cell_type": "code",
   "execution_count": 3,
   "id": "82fba8cb",
   "metadata": {},
   "outputs": [
    {
     "name": "stdout",
     "output_type": "stream",
     "text": [
      "brothers are :  ('Raja', 'Rajesh')\n",
      "sisters are :  ('Pravalika', 'Ravalika')\n",
      "siblings are :  ('Raja', 'Rajesh', 'Pravalika', 'Ravalika')\n",
      "number of siblings are :  4\n",
      "family members are :  ('father', 'mother', 'Raja', 'Rajesh', 'Pravalika', 'Ravalika')\n"
     ]
    }
   ],
   "source": [
    "#creating tuples brothers and sisters\n",
    "sisters=(\"Pravalika\",\"Ravalika\")\n",
    "brothers=(\"Raja\",\"Rajesh\")\n",
    "print(\"brothers are : \",brothers)\n",
    "print(\"sisters are : \",sisters)\n",
    "\n",
    "#joining brothers and sisters tuples to siblings\n",
    "siblings=brothers+sisters\n",
    "print(\"siblings are : \",siblings)\n",
    "print(\"number of siblings are : \",len(siblings))\n",
    "\n",
    "#modifying siblings tuple by adding father name and mother name\n",
    "family_members=(\"father\",\"mother\")+siblings\n",
    "print(\"family members are : \",family_members)\n"
   ]
  },
  {
   "cell_type": "code",
   "execution_count": null,
   "id": "ecacd4bb",
   "metadata": {},
   "outputs": [],
   "source": [
    "# given list of it companies\n",
    "it_companies = {\"Facebook\", \"Google\", \"Microsoft\", \"Apple\", \"IBM\", \"Oracle\", \"Amazon\"}\n",
    "A = {19, 22, 24, 20, 25, 26}\n",
    "B = {19, 22, 20, 25, 26, 24, 28, 27}\n",
    "age = [22, 19, 24, 25, 26, 24, 25, 24]\n",
    "print(\"length of it_companies : \", len(it_companies))\n",
    "\n",
    "# adding twitter to it_companies\n",
    "it_companies.add(\"Twitter\")\n",
    "print(\"it_companies after appending twitter :\", it_companies)\n",
    "\n",
    "# inserting multiple it companies\n",
    "companies = [\"NCR\", \"Wipro\", \"TCS\"]\n",
    "it_companies.update(companies)\n",
    "print(\"it_companies after appending multiple companies :\", it_companies)\n",
    "\n",
    "# removing one company\n",
    "it_companies.remove(\"Twitter\")\n",
    "print(\"it_companies after removing one company : \", it_companies)\n",
    "\n",
    "# Difference between remove and discard method\n",
    "# The remove() method will raise an error if the specified item does not exist, and the discard() method will not raise error.\n",
    "\n",
    "# joining A and B\n",
    "C = A.union(B)\n",
    "print(\"joining A and B gives :\", C)\n",
    "\n",
    "# finding A intersection B\n",
    "I = A.intersection(B)\n",
    "print(\"Intersection of A and B is:\", I)\n",
    "\n",
    "# checking is A subset of B\n",
    "check = A.issubset(B)\n",
    "if check:\n",
    "    print(\"A is subset of B\")\n",
    "else:\n",
    "    print(\"A is not a subset of B\")\n",
    "\n",
    "# checking are A and B are disjoint sets\n",
    "check1 = A.isdisjoint(B)\n",
    "if check1:\n",
    "    print(\"A and B are disjoint sets\")\n",
    "else:\n",
    "    print(\"A and B are not disjoint sets\")\n",
    "\n",
    "# joining A with B and B with A\n",
    "A_join_B = A.union(B)\n",
    "B_join_A = B.union(A)\n",
    "print(\"A join B is :\", A_join_B)\n",
    "print(\"B join A is :\", B_join_A)\n",
    "\n",
    "# symmetric difference between A and B\n",
    "D = A.symmetric_difference(B)\n",
    "print(\"symmetric difference between A and B is :\", D)\n",
    "\n",
    "# deleting all the sets\n",
    "it_companies.clear()\n",
    "A.clear()\n",
    "B.clear()\n",
    "\n",
    "# converting ages list to set\n",
    "age_set = set(age)\n",
    "print(\"length of ages list is : \", len(age))\n",
    "print(\"length of ages set is :\", len(age_set))\n",
    "print(\"length of ages list is greater than the ages set\")"
   ]
  },
  {
   "cell_type": "code",
   "execution_count": null,
   "id": "d8f08bd9",
   "metadata": {},
   "outputs": [],
   "source": [
    "\n",
    "r=30\n",
    "_area_of_circle=3.14*(r**2)\n",
    "print(\"area of circle :\",_area_of_circle)\n",
    "_circum_of_circle=2*3.17*r\n",
    "#printing the value\n",
    "print(\"circumference of circle :\",_circum_of_circle)\n",
    "n=int(input())\n",
    "area=3.14*(n*2)\n",
    "print(\"Area of circle with user input :\",area)\n"
   ]
  },
  {
   "cell_type": "code",
   "execution_count": null,
   "id": "6a2a6de3",
   "metadata": {},
   "outputs": [],
   "source": [
    "\n",
    "a=\"I am a teacher and I love to inspire and teach people\"\n",
    "b=a.split()\n",
    "set1=set(b)\n",
    "count=len(set1)\n",
    "print(count)"
   ]
  },
  {
   "cell_type": "code",
   "execution_count": null,
   "id": "10bae3b5",
   "metadata": {},
   "outputs": [],
   "source": [
    "\n",
    "txt = \"Name\\tAge\\tCountry\\tCity\\nAsabeneh\\t250\\tFinland\\tHelsinki\"\n",
    "print(txt)"
   ]
  },
  {
   "cell_type": "code",
   "execution_count": null,
   "id": "a6703f09",
   "metadata": {},
   "outputs": [],
   "source": [
    "\n",
    "radius=10\n",
    "area=3.14 * radius ** 2\n",
    "print(\"The area of circle with radius {} is {} meters square\".format(radius,area))\n"
   ]
  },
  {
   "cell_type": "code",
   "execution_count": null,
   "id": "6e6e1eb1",
   "metadata": {},
   "outputs": [],
   "source": [
    "n=int(input(\"Enter number of student's weight to be calculated\"))\n",
    "weights_in_lbs=[]\n",
    "weights_in_kg=[]\n",
    "#appending the elements into the list\n",
    "for i in range(n):\n",
    "    weights_in_lbs.append(int(input(\"weight {} \\n\".format(i+1))))\n",
    "print(weights_in_lbs)\n",
    "#converting lbs to kilogram with exactly 2 decimal places\n",
    "for i in range(len(weights_in_lbs)):\n",
    "    lbs=0.45359237 #1lbs= 0.45359237kg\n",
    "    temp=round(weights_in_lbs[i]*lbs,2)\n",
    "    weights_in_kg.append(temp)\n",
    "    temp=0\n",
    "print(weights_in_kg)"
   ]
  },
  {
   "cell_type": "code",
   "execution_count": null,
   "id": "251f4603",
   "metadata": {},
   "outputs": [],
   "source": []
  },
  {
   "cell_type": "code",
   "execution_count": null,
   "id": "b9c7bf69",
   "metadata": {},
   "outputs": [],
   "source": []
  }
 ],
 "metadata": {
  "kernelspec": {
   "display_name": "Python 3 (ipykernel)",
   "language": "python",
   "name": "python3"
  },
  "language_info": {
   "codemirror_mode": {
    "name": "ipython",
    "version": 3
   },
   "file_extension": ".py",
   "mimetype": "text/x-python",
   "name": "python",
   "nbconvert_exporter": "python",
   "pygments_lexer": "ipython3",
   "version": "3.9.13"
  }
 },
 "nbformat": 4,
 "nbformat_minor": 5
}
